{
 "cells": [
  {
   "cell_type": "code",
   "execution_count": 17,
   "id": "4241a456",
   "metadata": {},
   "outputs": [
    {
     "data": {
      "text/plain": [
       "'black'"
      ]
     },
     "execution_count": 17,
     "metadata": {},
     "output_type": "execute_result"
    }
   ],
   "source": [
    "class Car:\n",
    "    def __init__(self,color,company):\n",
    "        self.color = color\n",
    "        self.company = company\n",
    "car1 = Car('black', 'skoda')\n",
    "car1.color"
   ]
  },
  {
   "cell_type": "code",
   "execution_count": 20,
   "id": "ffb6e845",
   "metadata": {},
   "outputs": [
    {
     "data": {
      "text/plain": [
       "'black'"
      ]
     },
     "execution_count": 20,
     "metadata": {},
     "output_type": "execute_result"
    }
   ],
   "source": [
    "car1.color\n"
   ]
  },
  {
   "cell_type": "code",
   "execution_count": 19,
   "id": "2dd51bae",
   "metadata": {},
   "outputs": [
    {
     "data": {
      "text/plain": [
       "'skoda'"
      ]
     },
     "execution_count": 19,
     "metadata": {},
     "output_type": "execute_result"
    }
   ],
   "source": [
    "car1.company"
   ]
  },
  {
   "cell_type": "code",
   "execution_count": 12,
   "id": "fc53b171",
   "metadata": {},
   "outputs": [],
   "source": [
    "class Tree:\n",
    "    def __init__(self,name):\n",
    "        self.Name = name\n",
    "        \n",
    "\n",
    "tree1 = Tree('Mango')\n"
   ]
  },
  {
   "cell_type": "code",
   "execution_count": 8,
   "id": "424bc67c",
   "metadata": {},
   "outputs": [
    {
     "data": {
      "text/plain": [
       "<__main__.Tree at 0x21355263520>"
      ]
     },
     "execution_count": 8,
     "metadata": {},
     "output_type": "execute_result"
    }
   ],
   "source": [
    "tree1"
   ]
  },
  {
   "cell_type": "code",
   "execution_count": 9,
   "id": "6023a4f7",
   "metadata": {},
   "outputs": [
    {
     "data": {
      "text/plain": [
       "'Mango'"
      ]
     },
     "execution_count": 9,
     "metadata": {},
     "output_type": "execute_result"
    }
   ],
   "source": [
    "tree1.Name"
   ]
  },
  {
   "cell_type": "code",
   "execution_count": 13,
   "id": "07a88514",
   "metadata": {},
   "outputs": [
    {
     "data": {
      "text/plain": [
       "'Apple'"
      ]
     },
     "execution_count": 13,
     "metadata": {},
     "output_type": "execute_result"
    }
   ],
   "source": [
    "tree2.Name"
   ]
  },
  {
   "cell_type": "code",
   "execution_count": 14,
   "id": "6d649311",
   "metadata": {},
   "outputs": [],
   "source": [
    "tree2  = Tree('Apple')"
   ]
  },
  {
   "cell_type": "code",
   "execution_count": 15,
   "id": "27beef72",
   "metadata": {},
   "outputs": [
    {
     "data": {
      "text/plain": [
       "'Apple'"
      ]
     },
     "execution_count": 15,
     "metadata": {},
     "output_type": "execute_result"
    }
   ],
   "source": [
    "tree2.Name"
   ]
  },
  {
   "cell_type": "code",
   "execution_count": 56,
   "id": "20f84d50",
   "metadata": {},
   "outputs": [],
   "source": [
    "class Queue:\n",
    "    def __init__(self):\n",
    "        self.lst = []\n",
    "        \n",
    "    def enqueue(self,number):\n",
    "        self.lst.append(number)  #constant time\n",
    "        self.display()  # n times, prints whole queue\n",
    "        \n",
    "    def display(self):\n",
    "        print(self.lst)\n",
    "        \n",
    "    def dequeue(self):\n",
    "        self.lst.pop(0)\n",
    "        self.display()"
   ]
  },
  {
   "cell_type": "code",
   "execution_count": 61,
   "id": "7bc8bd78",
   "metadata": {},
   "outputs": [
    {
     "name": "stdout",
     "output_type": "stream",
     "text": [
      "[7]\n",
      "[7, 8]\n",
      "[7, 8, 77]\n",
      "[7, 8, 77, 88]\n",
      "[8, 77, 88]\n"
     ]
    }
   ],
   "source": [
    "q1 = Queue()\n",
    "q1.enqueue(7)\n",
    "q1.enqueue(8)\n",
    "q1.enqueue(77)\n",
    "q1.enqueue(88)\n",
    "q1.dequeue()\n"
   ]
  },
  {
   "cell_type": "markdown",
   "id": "fa028dee",
   "metadata": {},
   "source": [
    "# TIME COMPLEXITY & SPACE COMPLEXITY"
   ]
  },
  {
   "cell_type": "code",
   "execution_count": 63,
   "id": "525cc989",
   "metadata": {},
   "outputs": [
    {
     "name": "stdout",
     "output_type": "stream",
     "text": [
      "5\n",
      "25\n"
     ]
    }
   ],
   "source": [
    "#time complexity\n",
    "#O(n)\n",
    "\n",
    "n = int(input())\n",
    "\n",
    "total = 0\n",
    "for i in range(n):\n",
    "    total += n\n",
    "    \n",
    "print(total)"
   ]
  },
  {
   "cell_type": "code",
   "execution_count": 65,
   "id": "34fe0eed",
   "metadata": {},
   "outputs": [
    {
     "name": "stdout",
     "output_type": "stream",
     "text": [
      "10\n",
      "0\n",
      "1\n",
      "2\n",
      "3\n",
      "4\n"
     ]
    }
   ],
   "source": [
    "#constant time - O(1)\n",
    "\n",
    "n = int(input())\n",
    "i = 0\n",
    "while i < 5:\n",
    "    print(i)\n",
    "    i += 1"
   ]
  },
  {
   "cell_type": "code",
   "execution_count": 67,
   "id": "5ba99a51",
   "metadata": {},
   "outputs": [
    {
     "name": "stdout",
     "output_type": "stream",
     "text": [
      "7\n",
      "7\n",
      "7\n",
      "7\n",
      "7\n"
     ]
    }
   ],
   "source": [
    "#constant time O(1)\n",
    "\n",
    "n = int(input())\n",
    "for i in range(2):\n",
    "    for j in range(2):\n",
    "        print(n)"
   ]
  },
  {
   "cell_type": "code",
   "execution_count": 68,
   "id": "711a3eed",
   "metadata": {},
   "outputs": [
    {
     "name": "stdout",
     "output_type": "stream",
     "text": [
      "2\n",
      "2\n",
      "2\n",
      "2\n",
      "2\n"
     ]
    }
   ],
   "source": [
    "#order of n^2 - O(n^2)\n",
    "\n",
    "n = int(input())\n",
    "for i in range(n):\n",
    "    for j in range(n):\n",
    "        print(n)"
   ]
  },
  {
   "cell_type": "code",
   "execution_count": null,
   "id": "69325ddc",
   "metadata": {},
   "outputs": [],
   "source": [
    "# for finding time complexity\n",
    "from time import perf_counter\n",
    "\n",
    "#like this for a function linear\n",
    "\n",
    "x = []\n",
    "start  = perf_counter()\n",
    "linear(lst,i-5)\n",
    "end = per_counter\n",
    "x.append(end - start)\n"
   ]
  }
 ],
 "metadata": {
  "kernelspec": {
   "display_name": "Python 3 (ipykernel)",
   "language": "python",
   "name": "python3"
  },
  "language_info": {
   "codemirror_mode": {
    "name": "ipython",
    "version": 3
   },
   "file_extension": ".py",
   "mimetype": "text/x-python",
   "name": "python",
   "nbconvert_exporter": "python",
   "pygments_lexer": "ipython3",
   "version": "3.9.12"
  }
 },
 "nbformat": 4,
 "nbformat_minor": 5
}
